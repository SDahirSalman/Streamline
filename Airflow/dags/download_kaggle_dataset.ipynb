{
 "cells": [
  {
   "cell_type": "code",
   "execution_count": 19,
   "metadata": {},
   "outputs": [],
   "source": [
    "from kaggle.api.kaggle_api_extended import KaggleApi\n",
    "import json\n",
    "import zipfile\n",
    "os.environ[\"KAGGLE_USERNAME\"]=\"\"\n",
    "os.environ[\"KAGGLE_KEY\"]=\"\"\n",
    "path=\"/Users/Salman/Desktop/Github/Streamline/Data\"\n",
    "api = KaggleApi()\n",
    "api.authenticate()\n",
    "api.dataset_download_file(dataset=\"shivamb/netflix-shows\", file_name=\"netflix_titles.csv\", path=path)\n",
    "with zipfile.ZipFile('/Users/Salman/Desktop/Github/Streamline/Data/netflix_titles.csv.zip','r') as zip_ref:\n",
    "    zip_ref.extractall(path)\n"
   ]
  },
  {
   "cell_type": "markdown",
   "metadata": {},
   "source": []
  },
  {
   "cell_type": "markdown",
   "metadata": {},
   "source": []
  }
 ],
 "metadata": {
  "kernelspec": {
   "display_name": "Python 3.8.5 64-bit",
   "language": "python",
   "name": "python3"
  },
  "language_info": {
   "codemirror_mode": {
    "name": "ipython",
    "version": 3
   },
   "file_extension": ".py",
   "mimetype": "text/x-python",
   "name": "python",
   "nbconvert_exporter": "python",
   "pygments_lexer": "ipython3",
   "version": "3.8.5"
  },
  "orig_nbformat": 4,
  "vscode": {
   "interpreter": {
    "hash": "aee8b7b246df8f9039afb4144a1f6fd8d2ca17a180786b69acc140d282b71a49"
   }
  }
 },
 "nbformat": 4,
 "nbformat_minor": 2
}
